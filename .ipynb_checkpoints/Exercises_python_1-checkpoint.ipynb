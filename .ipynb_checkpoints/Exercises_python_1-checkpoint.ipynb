{
 "cells": [
  {
   "cell_type": "markdown",
   "id": "3afef2cd",
   "metadata": {},
   "source": [
    "<h1><center>Python Academy - Exercises - 1</center></h1>\n",
    "<h1><center>(put your name here)</center></h1>"
   ]
  },
  {
   "cell_type": "markdown",
   "id": "e29dc2dc",
   "metadata": {},
   "source": [
    "### Exercise 1\n",
    "\n",
    "Write a function called \"compare_x_y\"  that receives 2 paramters (x,y) and returns 1 if x > y, 0 if x == y, and -1 if x < y\n",
    "\n",
    "#### Topics: Basic Operators, Conditional Executions\n"
   ]
  },
  {
   "cell_type": "code",
   "execution_count": 96,
   "id": "f9e89c37",
   "metadata": {},
   "outputs": [
    {
     "ename": "AssertionError",
     "evalue": "The function is not working as expected",
     "output_type": "error",
     "traceback": [
      "\u001b[1;31m---------------------------------------------------------------------------\u001b[0m",
      "\u001b[1;31mAssertionError\u001b[0m                            Traceback (most recent call last)",
      "\u001b[1;32mC:\\Users\\EDSONC~1.MAD\\AppData\\Local\\Temp/ipykernel_16536/695096471.py\u001b[0m in \u001b[0;36m<module>\u001b[1;34m\u001b[0m\n\u001b[0;32m     12\u001b[0m \u001b[1;33m\u001b[0m\u001b[0m\n\u001b[0;32m     13\u001b[0m \u001b[1;32massert\u001b[0m \u001b[0mcompare_x_y\u001b[0m\u001b[1;33m(\u001b[0m\u001b[1;36m5\u001b[0m\u001b[1;33m,\u001b[0m\u001b[1;36m4\u001b[0m\u001b[1;33m)\u001b[0m \u001b[1;33m==\u001b[0m \u001b[1;36m1\u001b[0m\u001b[1;33m,\u001b[0m \u001b[1;34m\"The function is not working as expected\"\u001b[0m\u001b[1;33m\u001b[0m\u001b[1;33m\u001b[0m\u001b[0m\n\u001b[1;32m---> 14\u001b[1;33m \u001b[1;32massert\u001b[0m \u001b[0mcompare_x_y\u001b[0m\u001b[1;33m(\u001b[0m\u001b[1;36m4\u001b[0m\u001b[1;33m,\u001b[0m\u001b[1;36m4\u001b[0m\u001b[1;33m)\u001b[0m \u001b[1;33m==\u001b[0m \u001b[1;36m0\u001b[0m\u001b[1;33m,\u001b[0m \u001b[1;34m\"The function is not working as expected\"\u001b[0m\u001b[1;33m\u001b[0m\u001b[1;33m\u001b[0m\u001b[0m\n\u001b[0m\u001b[0;32m     15\u001b[0m \u001b[1;32massert\u001b[0m \u001b[0mcompare_x_y\u001b[0m\u001b[1;33m(\u001b[0m\u001b[1;36m3\u001b[0m\u001b[1;33m,\u001b[0m\u001b[1;36m4\u001b[0m\u001b[1;33m)\u001b[0m \u001b[1;33m==\u001b[0m \u001b[1;33m-\u001b[0m\u001b[1;36m1\u001b[0m\u001b[1;33m,\u001b[0m \u001b[1;34m\"The function is not working as expected\"\u001b[0m\u001b[1;33m\u001b[0m\u001b[1;33m\u001b[0m\u001b[0m\n",
      "\u001b[1;31mAssertionError\u001b[0m: The function is not working as expected"
     ]
    }
   ],
   "source": [
    "# Your answer here:\n",
    "x = 5\n",
    "y = 3\n",
    "def compare_x_y(x,y): \n",
    "    if x >= y:\n",
    "        return 1\n",
    "    elif x == y:\n",
    "        return 0\n",
    "    elif x <= y:\n",
    "        return -1\n",
    "        \n",
    "\n",
    "assert compare_x_y(5,4) == 1, \"The function is not working as expected\"\n",
    "assert compare_x_y(4,4) == 0, \"The function is not working as expected\"\n",
    "assert compare_x_y(3,4) == -1, \"The function is not working as expected\""
   ]
  },
  {
   "cell_type": "markdown",
   "id": "c3a55396",
   "metadata": {},
   "source": [
    "### Exercise 2\n",
    "\n",
    "Write a function called \"hypotenuse\" that returns the length of the hypotenuse of a right triangle given the lengths of the two legs as arguments.\n",
    "\n",
    "#### Topics: Basic Operators"
   ]
  },
  {
   "cell_type": "code",
   "execution_count": 72,
   "id": "bfebb113",
   "metadata": {},
   "outputs": [
    {
     "ename": "AssertionError",
     "evalue": "The function is not working as expected",
     "output_type": "error",
     "traceback": [
      "\u001b[1;31m---------------------------------------------------------------------------\u001b[0m",
      "\u001b[1;31mAssertionError\u001b[0m                            Traceback (most recent call last)",
      "\u001b[1;32mC:\\Users\\EDSONC~1.MAD\\AppData\\Local\\Temp/ipykernel_16536/3294851996.py\u001b[0m in \u001b[0;36m<module>\u001b[1;34m\u001b[0m\n\u001b[0;32m     13\u001b[0m \u001b[1;33m\u001b[0m\u001b[0m\n\u001b[0;32m     14\u001b[0m \u001b[1;33m\u001b[0m\u001b[0m\n\u001b[1;32m---> 15\u001b[1;33m \u001b[1;32massert\u001b[0m \u001b[1;34m\"{:.2f}\"\u001b[0m\u001b[1;33m.\u001b[0m\u001b[0mformat\u001b[0m\u001b[1;33m(\u001b[0m\u001b[0mhypotenuse\u001b[0m\u001b[1;33m(\u001b[0m\u001b[1;36m12\u001b[0m\u001b[1;33m,\u001b[0m\u001b[1;36m14\u001b[0m\u001b[1;33m)\u001b[0m\u001b[1;33m)\u001b[0m \u001b[1;33m==\u001b[0m \u001b[1;34m\"18.44\"\u001b[0m\u001b[1;33m,\u001b[0m \u001b[1;34m\"The function is not working as expected\"\u001b[0m\u001b[1;33m\u001b[0m\u001b[1;33m\u001b[0m\u001b[0m\n\u001b[0m\u001b[0;32m     16\u001b[0m \u001b[1;32massert\u001b[0m \u001b[1;34m\"{:.2f}\"\u001b[0m\u001b[1;33m.\u001b[0m\u001b[0mformat\u001b[0m\u001b[1;33m(\u001b[0m\u001b[0mhypotenuse\u001b[0m\u001b[1;33m(\u001b[0m\u001b[1;36m45\u001b[0m\u001b[1;33m,\u001b[0m\u001b[1;36m34\u001b[0m\u001b[1;33m)\u001b[0m\u001b[1;33m)\u001b[0m \u001b[1;33m==\u001b[0m \u001b[1;34m\"56.40\"\u001b[0m\u001b[1;33m,\u001b[0m \u001b[1;34m\"The function is not working as expected\"\u001b[0m\u001b[1;33m\u001b[0m\u001b[1;33m\u001b[0m\u001b[0m\n\u001b[0;32m     17\u001b[0m \u001b[1;32massert\u001b[0m \u001b[1;34m\"{:.2f}\"\u001b[0m\u001b[1;33m.\u001b[0m\u001b[0mformat\u001b[0m\u001b[1;33m(\u001b[0m\u001b[0mhypotenuse\u001b[0m\u001b[1;33m(\u001b[0m\u001b[1;36m1\u001b[0m\u001b[1;33m,\u001b[0m\u001b[1;36m2\u001b[0m\u001b[1;33m)\u001b[0m\u001b[1;33m)\u001b[0m \u001b[1;33m==\u001b[0m \u001b[1;34m\"2.24\"\u001b[0m\u001b[1;33m,\u001b[0m \u001b[1;34m\"The function is not working as expected\"\u001b[0m\u001b[1;33m\u001b[0m\u001b[1;33m\u001b[0m\u001b[0m\n",
      "\u001b[1;31mAssertionError\u001b[0m: The function is not working as expected"
     ]
    }
   ],
   "source": [
    "# Your answer here:\n",
    "\n",
    "\n",
    "#s1 = input(\"Ingresa la medida del primer cateto: \")\n",
    "#s2 = input(\"Ingresa la medida del segundo cateto: \")\n",
    "\n",
    "def hypotenuse(s1,s2):\n",
    "    calculate = (float(s1**2) + float(s2**2))\n",
    "    calculate = calculate / 2\n",
    "    return(calculate)\n",
    "    \n",
    "\n",
    "\n",
    "\n",
    "assert \"{:.2f}\".format(hypotenuse(12,14)) == \"18.44\", \"The function is not working as expected\"\n",
    "assert \"{:.2f}\".format(hypotenuse(45,34)) == \"56.40\", \"The function is not working as expected\"\n",
    "assert \"{:.2f}\".format(hypotenuse(1,2)) == \"2.24\", \"The function is not working as expected\"\n"
   ]
  },
  {
   "cell_type": "markdown",
   "id": "7aefae51",
   "metadata": {},
   "source": [
    "### Exercise 3\n",
    "\n",
    "Write a function called is_between(x, y, z) that returns True if x ≤ y ≤ z or False otherwise.\n",
    "\n",
    "#### Topics: Basic Operators"
   ]
  },
  {
   "cell_type": "code",
   "execution_count": 93,
   "id": "dbfaa4fb",
   "metadata": {},
   "outputs": [],
   "source": [
    "# Your answer here:\n",
    "#x = input(\"Primer valor a comprobar: \")\n",
    "#y = input(\"Primer valor a comprobar: \")\n",
    "#z = input(\"Primer valor a comprobar: \")\n",
    "\n",
    "def is_between(x,y,z):\n",
    "    if x <= y <= z:\n",
    "        return(True)\n",
    "    else:\n",
    "        return(False)\n",
    "        \n",
    "\n",
    "\n",
    "\n",
    "assert is_between(3,4,5) == True, \"The function is not working as expected\"\n",
    "assert is_between(4,6,1) == False, \"The function is not working as expected\"\n",
    "assert is_between(4,4,4) == True, \"The function is not working as expected\""
   ]
  },
  {
   "cell_type": "markdown",
   "id": "7a35269c",
   "metadata": {},
   "source": [
    "### Exercise 4\n",
    "\n",
    "A number, X, is a power of Y if it is divisible by Y and X/Y is a power of Y. \n",
    "\n",
    "Write a function called is_power that takes parameters X and Y and returns True if X is a power of Y.\n",
    "\n",
    "#### Topics: Basic Operators"
   ]
  },
  {
   "cell_type": "code",
   "execution_count": 94,
   "id": "6f9929d1",
   "metadata": {},
   "outputs": [],
   "source": [
    "# Your answer here:\n",
    "\n",
    "def is_power(x,y):\n",
    "    if x%y == 0 and (x/y)%y==0:\n",
    "        return True\n",
    "    else:\n",
    "        return False\n",
    "\n",
    "assert is_power(64,4) == True, \"The function is not working as expected\"\n",
    "assert is_power(6,2) == False, \"The function is not working as expected\"\n",
    "assert is_power(1296,6) == True, \"The function is not working as expected\""
   ]
  },
  {
   "cell_type": "markdown",
   "id": "1d4275f4",
   "metadata": {},
   "source": [
    "### Exercise 5\n",
    "\n",
    "Write a function called \"greatest_common_divisor\" that takes parameters a and b and returns their greatest common divisor.\n",
    "\n",
    "#### Topics: Basic Operators"
   ]
  },
  {
   "cell_type": "code",
   "execution_count": 99,
   "id": "3af5d687",
   "metadata": {},
   "outputs": [
    {
     "name": "stdout",
     "output_type": "stream",
     "text": [
      "Ingresa el primer parametro: 1\n",
      "Ingresa el segundo parametro: 3\n",
      "Greatest common divisor of 1 and 3 is : 1\n",
      "None\n",
      "Greatest common divisor of 64 and 4 is : 4\n"
     ]
    },
    {
     "ename": "AssertionError",
     "evalue": "The function is not working as expected",
     "output_type": "error",
     "traceback": [
      "\u001b[1;31m---------------------------------------------------------------------------\u001b[0m",
      "\u001b[1;31mAssertionError\u001b[0m                            Traceback (most recent call last)",
      "\u001b[1;32mC:\\Users\\EDSONC~1.MAD\\AppData\\Local\\Temp/ipykernel_20092/2576961322.py\u001b[0m in \u001b[0;36m<module>\u001b[1;34m\u001b[0m\n\u001b[0;32m     10\u001b[0m \u001b[0mprint\u001b[0m\u001b[1;33m(\u001b[0m\u001b[0mgreatest_common_divisor\u001b[0m\u001b[1;33m(\u001b[0m\u001b[0mint\u001b[0m\u001b[1;33m(\u001b[0m\u001b[0ma\u001b[0m\u001b[1;33m)\u001b[0m\u001b[1;33m,\u001b[0m\u001b[0mint\u001b[0m\u001b[1;33m(\u001b[0m\u001b[0mb\u001b[0m\u001b[1;33m)\u001b[0m\u001b[1;33m)\u001b[0m\u001b[1;33m)\u001b[0m\u001b[1;33m\u001b[0m\u001b[1;33m\u001b[0m\u001b[0m\n\u001b[0;32m     11\u001b[0m \u001b[1;33m\u001b[0m\u001b[0m\n\u001b[1;32m---> 12\u001b[1;33m \u001b[1;32massert\u001b[0m \u001b[0mgreatest_common_divisor\u001b[0m\u001b[1;33m(\u001b[0m\u001b[1;36m64\u001b[0m\u001b[1;33m,\u001b[0m\u001b[1;36m4\u001b[0m\u001b[1;33m)\u001b[0m \u001b[1;33m==\u001b[0m \u001b[1;36m4\u001b[0m\u001b[1;33m,\u001b[0m \u001b[1;34m\"The function is not working as expected\"\u001b[0m\u001b[1;33m\u001b[0m\u001b[1;33m\u001b[0m\u001b[0m\n\u001b[0m\u001b[0;32m     13\u001b[0m \u001b[1;32massert\u001b[0m \u001b[0mgreatest_common_divisor\u001b[0m\u001b[1;33m(\u001b[0m\u001b[1;36m6\u001b[0m\u001b[1;33m,\u001b[0m\u001b[1;36m2\u001b[0m\u001b[1;33m)\u001b[0m \u001b[1;33m==\u001b[0m \u001b[1;36m2\u001b[0m\u001b[1;33m,\u001b[0m \u001b[1;34m\"The function is not working as expected\"\u001b[0m\u001b[1;33m\u001b[0m\u001b[1;33m\u001b[0m\u001b[0m\n\u001b[0;32m     14\u001b[0m \u001b[1;32massert\u001b[0m \u001b[0mgreatest_common_divisor\u001b[0m\u001b[1;33m(\u001b[0m\u001b[1;36m12\u001b[0m\u001b[1;33m,\u001b[0m\u001b[1;36m36\u001b[0m\u001b[1;33m)\u001b[0m \u001b[1;33m==\u001b[0m \u001b[1;36m12\u001b[0m\u001b[1;33m,\u001b[0m \u001b[1;34m\"The function is not working as expected\"\u001b[0m\u001b[1;33m\u001b[0m\u001b[1;33m\u001b[0m\u001b[0m\n",
      "\u001b[1;31mAssertionError\u001b[0m: The function is not working as expected"
     ]
    }
   ],
   "source": [
    "# Your answer here:\n",
    "import math\n",
    "\n",
    "a = input(\"Ingresa el primer parametro: \")\n",
    "b = input(\"Ingresa el segundo parametro: \")\n",
    "\n",
    "def greatest_common_divisor(a,b):\n",
    "    print(f\"Greatest common divisor of {a} and {b} is :\",math.gcd(a,b))\n",
    "    \n",
    "print(greatest_common_divisor(int(a),int(b)))\n",
    "\n",
    "assert greatest_common_divisor(64,4) == 4, \"The function is not working as expected\"\n",
    "assert greatest_common_divisor(6,2) == 2, \"The function is not working as expected\"\n",
    "assert greatest_common_divisor(12,36) == 12, \"The function is not working as expected\""
   ]
  },
  {
   "cell_type": "markdown",
   "id": "289e5952",
   "metadata": {},
   "source": [
    "### Exercise 6\n",
    "Write a function called \"print_backward\" that takes a string as an argument and displays the letters backward, one per line.\n",
    "\n",
    "#### Topics: Loops, Slices, String methods"
   ]
  },
  {
   "cell_type": "code",
   "execution_count": 26,
   "id": "8f4184e0",
   "metadata": {},
   "outputs": [
    {
     "name": "stdout",
     "output_type": "stream",
     "text": [
      "o\n",
      "l\n",
      "l\n",
      "e\n",
      "H\n",
      "None\n"
     ]
    }
   ],
   "source": [
    "# Your answer here:\n",
    "def print_backward(s):\n",
    "    for y in reversed(s):\n",
    "        print(y)\n",
    "        \n",
    "print(print_backward('Hello'))"
   ]
  },
  {
   "cell_type": "raw",
   "id": "448dbfed",
   "metadata": {},
   "source": []
  },
  {
   "cell_type": "markdown",
   "id": "bed56cb9",
   "metadata": {},
   "source": [
    "### Exercise 7\n",
    "\n",
    "Write a function called \"is_palindrome\" that takes a string argument and returns \"True\" if it is a palindrome and False otherwise. \n",
    "\n",
    "Note: String can include blanks spaces\n",
    "\n",
    "#### Topics: Slices, String methods"
   ]
  },
  {
   "cell_type": "code",
   "execution_count": 67,
   "id": "0dbfe2bc",
   "metadata": {},
   "outputs": [
    {
     "name": "stdout",
     "output_type": "stream",
     "text": [
      "ana ana\n",
      "anaana\n"
     ]
    }
   ],
   "source": [
    "# Your answer here:\n",
    "s = 'Ana Ana'.lower()\n",
    "\n",
    "\n",
    "\n",
    "\n",
    "print(s)\n",
    "\n",
    "s = ''.join(s.split())\n",
    "\n",
    "print(s)\n",
    "def is_palindrome(s):\n",
    "    s = ''.join(s.split())\n",
    "    s = s.lower()\n",
    "    if s == s[::-1]:\n",
    "        return True\n",
    "    else:\n",
    "        return False\n",
    "\n",
    "\n",
    "is_palindrome(s)\n",
    "\n",
    "\n",
    "assert is_palindrome(\"A mi loca Colima\") == True, \"The function is not working as expected\"\n",
    "assert is_palindrome(\"roma\") == False, \"The function is not working as expected\"\n",
    "assert is_palindrome(\"madam\") == True, \"The function is not working as expected\"\n",
    "assert is_palindrome(\"Alli ves a Sevilla\") == True, \"The function is not working as expected\"\n"
   ]
  },
  {
   "cell_type": "markdown",
   "id": "906fd2e9",
   "metadata": {},
   "source": [
    "### Exercise 8\n",
    "Write a function named \"avoids\" that promts the user to enter 2 paramters: a \"string\" and a \"string\" of forbidden letters\n",
    "The functions must return True if the word doesn’t use any of the forbidden letters, otherwise, False \n",
    "\n",
    "#### Topics: String methods, Conditioinal execution"
   ]
  },
  {
   "cell_type": "code",
   "execution_count": 32,
   "id": "22d69935",
   "metadata": {},
   "outputs": [
    {
     "name": "stdout",
     "output_type": "stream",
     "text": [
      "Enter 1st parameter: fdgdfg\n",
      "Enter 2nd parameter: csacsd\n"
     ]
    },
    {
     "ename": "AssertionError",
     "evalue": "The function is not working as expected",
     "output_type": "error",
     "traceback": [
      "\u001b[1;31m---------------------------------------------------------------------------\u001b[0m",
      "\u001b[1;31mAssertionError\u001b[0m                            Traceback (most recent call last)",
      "\u001b[1;32mC:\\Users\\EDSONC~1.MAD\\AppData\\Local\\Temp/ipykernel_16536/542509060.py\u001b[0m in \u001b[0;36m<module>\u001b[1;34m\u001b[0m\n\u001b[0;32m     15\u001b[0m \u001b[1;33m\u001b[0m\u001b[0m\n\u001b[0;32m     16\u001b[0m \u001b[1;32massert\u001b[0m \u001b[0mavoids\u001b[0m\u001b[1;33m(\u001b[0m\u001b[1;34m\"Jose\"\u001b[0m\u001b[1;33m)\u001b[0m \u001b[1;33m==\u001b[0m \u001b[1;32mTrue\u001b[0m\u001b[1;33m,\u001b[0m \u001b[1;34m\"The function is not working as expected\"\u001b[0m\u001b[1;33m\u001b[0m\u001b[1;33m\u001b[0m\u001b[0m\n\u001b[1;32m---> 17\u001b[1;33m \u001b[1;32massert\u001b[0m \u001b[0mavoids\u001b[0m\u001b[1;33m(\u001b[0m\u001b[1;34m\"Maria\"\u001b[0m\u001b[1;33m)\u001b[0m \u001b[1;33m==\u001b[0m \u001b[1;32mFalse\u001b[0m\u001b[1;33m,\u001b[0m \u001b[1;34m\"The function is not working as expected\"\u001b[0m\u001b[1;33m\u001b[0m\u001b[1;33m\u001b[0m\u001b[0m\n\u001b[0m\u001b[0;32m     18\u001b[0m \u001b[1;32massert\u001b[0m \u001b[0mavoids\u001b[0m\u001b[1;33m(\u001b[0m\u001b[1;34m\"Mate\"\u001b[0m\u001b[1;33m)\u001b[0m \u001b[1;33m==\u001b[0m \u001b[1;32mFalse\u001b[0m\u001b[1;33m,\u001b[0m \u001b[1;34m\"The function is not working as expected\"\u001b[0m\u001b[1;33m\u001b[0m\u001b[1;33m\u001b[0m\u001b[0m\n\u001b[0;32m     19\u001b[0m \u001b[1;32massert\u001b[0m \u001b[0mavoids\u001b[0m\u001b[1;33m(\u001b[0m\u001b[1;34m\"Mate\"\u001b[0m\u001b[1;33m)\u001b[0m \u001b[1;33m==\u001b[0m \u001b[1;32mTrue\u001b[0m\u001b[1;33m,\u001b[0m \u001b[1;34m\"The function is not working as expected\"\u001b[0m\u001b[1;33m\u001b[0m\u001b[1;33m\u001b[0m\u001b[0m\n",
      "\u001b[1;31mAssertionError\u001b[0m: The function is not working as expected"
     ]
    }
   ],
   "source": [
    "# Your answer here:\n",
    "\n",
    "s1 = input(\"Enter 1st parameter: \")\n",
    "s2 = input(\"Enter 2nd parameter: \")\n",
    "s = s1 + s2\n",
    "def avoids(s):\n",
    "    ascii = all(ord(c) < 128 for c in s)\n",
    "    if ascii == True: \n",
    "        return True\n",
    "    else:\n",
    "        return False\n",
    "\n",
    "avoids(s)\n",
    "\n",
    "\n",
    "assert avoids(\"Jose\",\"zrtp\") == True, \"The function is not working as expected\"\n",
    "assert avoids(\"Maria\", \"abcde\") == False, \"The function is not working as expected\"\n",
    "assert avoids(\"Mate\", \"abcde\") == False, \"The function is not working as expected\"\n",
    "assert avoids(\"Mate\", \"bcd\") == True, \"The function is not working as expected\"\n"
   ]
  },
  {
   "cell_type": "markdown",
   "id": "7199783e",
   "metadata": {},
   "source": [
    "### Exercise 9\n",
    "Write a function called \"letters_sequence\". This functions must returns \"True\" if the letters in a word appear in alphabetical order\n",
    "#### Topics: String methods"
   ]
  },
  {
   "cell_type": "code",
   "execution_count": 83,
   "id": "e01f0dd7",
   "metadata": {},
   "outputs": [
    {
     "ename": "AssertionError",
     "evalue": "The function is not working as expected",
     "output_type": "error",
     "traceback": [
      "\u001b[1;31m---------------------------------------------------------------------------\u001b[0m",
      "\u001b[1;31mAssertionError\u001b[0m                            Traceback (most recent call last)",
      "\u001b[1;32mC:\\Users\\EDSONC~1.MAD\\AppData\\Local\\Temp/ipykernel_16536/2228977481.py\u001b[0m in \u001b[0;36m<module>\u001b[1;34m\u001b[0m\n\u001b[0;32m     17\u001b[0m \u001b[1;32massert\u001b[0m \u001b[0mletters_sequence\u001b[0m\u001b[1;33m(\u001b[0m\u001b[1;34m\"A mi loca Colima\"\u001b[0m\u001b[1;33m)\u001b[0m \u001b[1;33m==\u001b[0m \u001b[1;32mFalse\u001b[0m\u001b[1;33m,\u001b[0m \u001b[1;34m\"The function is not working as expected\"\u001b[0m\u001b[1;33m\u001b[0m\u001b[1;33m\u001b[0m\u001b[0m\n\u001b[0;32m     18\u001b[0m \u001b[1;32massert\u001b[0m \u001b[0mletters_sequence\u001b[0m\u001b[1;33m(\u001b[0m\u001b[1;34m\"roma\"\u001b[0m\u001b[1;33m)\u001b[0m \u001b[1;33m==\u001b[0m \u001b[1;32mFalse\u001b[0m\u001b[1;33m,\u001b[0m \u001b[1;34m\"The function is not working as expected\"\u001b[0m\u001b[1;33m\u001b[0m\u001b[1;33m\u001b[0m\u001b[0m\n\u001b[1;32m---> 19\u001b[1;33m \u001b[1;32massert\u001b[0m \u001b[0mletters_sequence\u001b[0m\u001b[1;33m(\u001b[0m\u001b[1;34m\"abcde\"\u001b[0m\u001b[1;33m)\u001b[0m \u001b[1;33m==\u001b[0m \u001b[1;32mTrue\u001b[0m\u001b[1;33m,\u001b[0m \u001b[1;34m\"The function is not working as expected\"\u001b[0m\u001b[1;33m\u001b[0m\u001b[1;33m\u001b[0m\u001b[0m\n\u001b[0m\u001b[0;32m     20\u001b[0m \u001b[1;32massert\u001b[0m \u001b[0mletters_sequence\u001b[0m\u001b[1;33m(\u001b[0m\u001b[1;34m\"Alli ves a Sevilla\"\u001b[0m\u001b[1;33m)\u001b[0m \u001b[1;33m==\u001b[0m \u001b[1;32mFalse\u001b[0m\u001b[1;33m,\u001b[0m \u001b[1;34m\"The function is not working as expected\"\u001b[0m\u001b[1;33m\u001b[0m\u001b[1;33m\u001b[0m\u001b[0m\n\u001b[0;32m     21\u001b[0m \u001b[1;33m\u001b[0m\u001b[0m\n",
      "\u001b[1;31mAssertionError\u001b[0m: The function is not working as expected"
     ]
    }
   ],
   "source": [
    "# Your answer here:\n",
    "##word = input(\"Enter a word pls\")\n",
    "\n",
    "\n",
    "def letters_sequence(word):\n",
    "    sort_word = sorted(word)\n",
    "    join_word = ''.join(sort_word)\n",
    "    if word == sort_word:\n",
    "        return True\n",
    "    else:\n",
    "        return False\n",
    "\n",
    "type(word)\n",
    "\n",
    "    \n",
    "\n",
    "assert letters_sequence(\"A mi loca Colima\") == False, \"The function is not working as expected\"\n",
    "assert letters_sequence(\"roma\") == False, \"The function is not working as expected\"\n",
    "assert letters_sequence(\"abcde\") == True, \"The function is not working as expected\"\n",
    "assert letters_sequence(\"Alli ves a Sevilla\") == False, \"The function is not working as expected\"\n",
    "    \n"
   ]
  },
  {
   "cell_type": "code",
   "execution_count": null,
   "id": "d80c6528",
   "metadata": {},
   "outputs": [],
   "source": []
  },
  {
   "cell_type": "code",
   "execution_count": null,
   "id": "066cafcc",
   "metadata": {},
   "outputs": [],
   "source": []
  },
  {
   "cell_type": "markdown",
   "id": "983da453",
   "metadata": {},
   "source": [
    "### Exercise 10\n",
    "\n",
    "Write a function called \"middle_list\" that takes a list and returns a new list that contains all but the first and last elements.\n",
    "#### Topics: List methods"
   ]
  },
  {
   "cell_type": "code",
   "execution_count": 1,
   "id": "d4329fce",
   "metadata": {},
   "outputs": [
    {
     "data": {
      "text/plain": [
       "[2, 4]"
      ]
     },
     "execution_count": 1,
     "metadata": {},
     "output_type": "execute_result"
    }
   ],
   "source": [
    "first_list = [1 , 2 , 4 ,5 ]\n",
    "\n",
    "type(first_list)\n",
    "\n",
    "first_list[1:-1]"
   ]
  },
  {
   "cell_type": "code",
   "execution_count": 69,
   "id": "5e08c9b2",
   "metadata": {},
   "outputs": [
    {
     "name": "stdout",
     "output_type": "stream",
     "text": [
      "[2, 4, 5, 6]\n"
     ]
    }
   ],
   "source": [
    "# Your answer here:\n",
    "\n",
    "first_list = [1 , 2 , 4 ,5 , 6, 7]\n",
    "\n",
    "type(first_list)\n",
    "\n",
    "def middle_list(first_list):\n",
    "    new_list = first_list[1:-1]\n",
    "    return(new_list)\n",
    "    \n",
    "\n",
    "print(middle_list(first_list))\n",
    "\n",
    "\n",
    "assert middle_list([\"a\",\"b\",\"c\"]) == [\"b\"], \"The function is not working as expected\"\n",
    "assert middle_list([\"a\",\"b\",\"c\",\"d\"]) == [\"b\",\"c\"], \"The function is not working as expected\"\n",
    "assert middle_list([1,2,3,4,5,6]) == [2,3,4,5], \"The function is not working as expected\""
   ]
  },
  {
   "cell_type": "code",
   "execution_count": null,
   "id": "48faabd2",
   "metadata": {},
   "outputs": [],
   "source": []
  }
 ],
 "metadata": {
  "kernelspec": {
   "display_name": "Python 3 (ipykernel)",
   "language": "python",
   "name": "python3"
  },
  "language_info": {
   "codemirror_mode": {
    "name": "ipython",
    "version": 3
   },
   "file_extension": ".py",
   "mimetype": "text/x-python",
   "name": "python",
   "nbconvert_exporter": "python",
   "pygments_lexer": "ipython3",
   "version": "3.9.6"
  }
 },
 "nbformat": 4,
 "nbformat_minor": 5
}
