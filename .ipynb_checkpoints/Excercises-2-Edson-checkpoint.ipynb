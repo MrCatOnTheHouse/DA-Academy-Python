{
 "cells": [
  {
   "cell_type": "markdown",
   "id": "f01988ff",
   "metadata": {},
   "source": [
    "### Excercise 1"
   ]
  },
  {
   "cell_type": "code",
   "execution_count": 41,
   "id": "b1a29ddf",
   "metadata": {},
   "outputs": [
    {
     "data": {
      "text/plain": [
       "11"
      ]
     },
     "execution_count": 41,
     "metadata": {},
     "output_type": "execute_result"
    }
   ],
   "source": [
    "x = [1 , 4, 6, 3, 5, 2, 11]\n",
    "\n",
    "def largest_number (x):\n",
    "    return max(x)\n",
    "\n",
    "\n",
    "\n",
    "largest_number(x)\n",
    "    "
   ]
  },
  {
   "cell_type": "markdown",
   "id": "2747166a",
   "metadata": {},
   "source": [
    "### Excercise 2"
   ]
  },
  {
   "cell_type": "code",
   "execution_count": 47,
   "id": "f162a9a4",
   "metadata": {},
   "outputs": [
    {
     "data": {
      "text/plain": [
       "False"
      ]
     },
     "execution_count": 47,
     "metadata": {},
     "output_type": "execute_result"
    }
   ],
   "source": [
    "\n",
    "  \n",
    "def prime_number(x):\n",
    "    if x > 1:\n",
    "        for i in range(2, x):\n",
    "            if (x % i) == 0:\n",
    "                return False\n",
    "                break\n",
    "            else:\n",
    "                return True\n",
    "    else:\n",
    "        return False\n",
    "    \n",
    "prime_number(1)"
   ]
  },
  {
   "cell_type": "markdown",
   "id": "fc2b541f",
   "metadata": {},
   "source": [
    "### Excercise 3"
   ]
  },
  {
   "cell_type": "code",
   "execution_count": 57,
   "id": "eaeab82e",
   "metadata": {},
   "outputs": [
    {
     "ename": "SyntaxError",
     "evalue": "'function call' is an illegal expression for augmented assignment (Temp/ipykernel_21876/2111268076.py, line 2)",
     "output_type": "error",
     "traceback": [
      "\u001b[1;36m  File \u001b[1;32m\"C:\\Users\\EDSONC~1.MAD\\AppData\\Local\\Temp/ipykernel_21876/2111268076.py\"\u001b[1;36m, line \u001b[1;32m2\u001b[0m\n\u001b[1;33m    round(x) *= 0.621371\u001b[0m\n\u001b[1;37m    ^\u001b[0m\n\u001b[1;31mSyntaxError\u001b[0m\u001b[1;31m:\u001b[0m 'function call' is an illegal expression for augmented assignment\n"
     ]
    }
   ],
   "source": [
    "\n",
    "\n",
    "def convert_km(x):\n",
    "    x *= 0.621371\n",
    "    return(x)\n",
    "\n",
    "convert_km(1.609)\n"
   ]
  },
  {
   "cell_type": "markdown",
   "id": "73ece5d7",
   "metadata": {},
   "source": [
    "### Excercise 4"
   ]
  },
  {
   "cell_type": "code",
   "execution_count": 22,
   "id": "2b4df5e1",
   "metadata": {},
   "outputs": [
    {
     "data": {
      "text/plain": [
       "10"
      ]
     },
     "execution_count": 22,
     "metadata": {},
     "output_type": "execute_result"
    }
   ],
   "source": [
    "x = 1234\n",
    "\n",
    "def sum_digits(x):\n",
    "    convert = str(x)\n",
    "    memory_number = 0\n",
    "    for i in range(0, len(convert)):\n",
    "        memory_number += int(convert[i])\n",
    "    return memory_number\n",
    "    \n",
    "    \n",
    "sum_digits(x)"
   ]
  },
  {
   "cell_type": "code",
   "execution_count": 6,
   "id": "a6c21360",
   "metadata": {},
   "outputs": [
    {
     "data": {
      "text/plain": [
       "19"
      ]
     },
     "execution_count": 6,
     "metadata": {},
     "output_type": "execute_result"
    }
   ],
   "source": [
    "s = 123553\n",
    "\n",
    "def sum_digits(n):\n",
    "    s = 0\n",
    "    while n:\n",
    "        s += n % 10\n",
    "        n //= 10\n",
    "    return s\n",
    "\n",
    "sum_digits(s)"
   ]
  },
  {
   "cell_type": "code",
   "execution_count": 92,
   "id": "669d36ca",
   "metadata": {},
   "outputs": [
    {
     "name": "stdout",
     "output_type": "stream",
     "text": [
      "11\n"
     ]
    },
    {
     "data": {
      "text/plain": [
       "True"
      ]
     },
     "execution_count": 92,
     "metadata": {},
     "output_type": "execute_result"
    }
   ],
   "source": []
  },
  {
   "cell_type": "markdown",
   "id": "f4484787",
   "metadata": {},
   "source": [
    "### Excercise 5"
   ]
  },
  {
   "cell_type": "code",
   "execution_count": 98,
   "id": "bafc306b",
   "metadata": {},
   "outputs": [
    {
     "data": {
      "text/plain": [
       "21"
      ]
     },
     "execution_count": 98,
     "metadata": {},
     "output_type": "execute_result"
    }
   ],
   "source": [
    "x = 8\n",
    "i = 0\n",
    "def fib(x):\n",
    "    if x < 2:\n",
    "        return x\n",
    "    else:\n",
    "        while \n",
    "    \n",
    "fib(x)"
   ]
  },
  {
   "cell_type": "code",
   "execution_count": null,
   "id": "37c707eb",
   "metadata": {},
   "outputs": [],
   "source": []
  },
  {
   "cell_type": "code",
   "execution_count": null,
   "id": "e268226a",
   "metadata": {},
   "outputs": [],
   "source": []
  }
 ],
 "metadata": {
  "kernelspec": {
   "display_name": "Python 3 (ipykernel)",
   "language": "python",
   "name": "python3"
  },
  "language_info": {
   "codemirror_mode": {
    "name": "ipython",
    "version": 3
   },
   "file_extension": ".py",
   "mimetype": "text/x-python",
   "name": "python",
   "nbconvert_exporter": "python",
   "pygments_lexer": "ipython3",
   "version": "3.9.6"
  }
 },
 "nbformat": 4,
 "nbformat_minor": 5
}
