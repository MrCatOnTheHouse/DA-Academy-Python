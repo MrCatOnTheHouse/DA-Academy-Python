{
 "cells": [
  {
   "cell_type": "code",
   "execution_count": 4,
   "id": "b1a29ddf",
   "metadata": {},
   "outputs": [
    {
     "data": {
      "text/plain": [
       "11"
      ]
     },
     "execution_count": 4,
     "metadata": {},
     "output_type": "execute_result"
    }
   ],
   "source": [
    "x = [1 , 4, 6, 3, 5, 2, 11]\n",
    "\n",
    "def largest_number (x):\n",
    "    return max(x)\n",
    "\n",
    "\n",
    "\n",
    "largest_number(x)\n",
    "    "
   ]
  },
  {
   "cell_type": "code",
   "execution_count": 102,
   "id": "f162a9a4",
   "metadata": {},
   "outputs": [
    {
     "name": "stdout",
     "output_type": "stream",
     "text": [
      "11\n"
     ]
    },
    {
     "data": {
      "text/plain": [
       "True"
      ]
     },
     "execution_count": 102,
     "metadata": {},
     "output_type": "execute_result"
    }
   ],
   "source": [
    "x = 11\n",
    "  \n",
    "def prime_number(x):\n",
    "    if x > 1:\n",
    "        for i in range(2, int(x/2) + 1):\n",
    "            print(x)\n",
    "            if (x % i) == 0:\n",
    "                return False\n",
    "                break\n",
    "            else:\n",
    "                return True\n",
    "    else:\n",
    "        return False\n",
    "    \n",
    "prime_number(x)"
   ]
  },
  {
   "cell_type": "code",
   "execution_count": 104,
   "id": "eaeab82e",
   "metadata": {},
   "outputs": [
    {
     "data": {
      "text/plain": [
       "6.21371"
      ]
     },
     "execution_count": 104,
     "metadata": {},
     "output_type": "execute_result"
    }
   ],
   "source": [
    "x = 10\n",
    "def convert_km(x):\n",
    "    x = x * 0.621371\n",
    "    return(x)\n",
    "\n",
    "convert_km(x)\n"
   ]
  },
  {
   "cell_type": "code",
   "execution_count": 103,
   "id": "2b4df5e1",
   "metadata": {},
   "outputs": [
    {
     "data": {
      "text/plain": [
       "1"
      ]
     },
     "execution_count": 103,
     "metadata": {},
     "output_type": "execute_result"
    }
   ],
   "source": [
    "x = 15\n",
    "\n",
    "def sum_digits(x):\n",
    "    \n",
    "    for i in str(x):\n",
    "        memory_numbers = 0\n",
    "        memory_numbers += int(i)\n",
    "        return (memory_numbers)\n",
    "    \n",
    "sum_digits(x)"
   ]
  },
  {
   "cell_type": "code",
   "execution_count": 92,
   "id": "669d36ca",
   "metadata": {},
   "outputs": [
    {
     "name": "stdout",
     "output_type": "stream",
     "text": [
      "11\n"
     ]
    },
    {
     "data": {
      "text/plain": [
       "True"
      ]
     },
     "execution_count": 92,
     "metadata": {},
     "output_type": "execute_result"
    }
   ],
   "source": []
  },
  {
   "cell_type": "code",
   "execution_count": 98,
   "id": "bafc306b",
   "metadata": {},
   "outputs": [
    {
     "data": {
      "text/plain": [
       "21"
      ]
     },
     "execution_count": 98,
     "metadata": {},
     "output_type": "execute_result"
    }
   ],
   "source": [
    "x = 8\n",
    "i = 0\n",
    "def fib(x):\n",
    "    if x < 2:\n",
    "        return x\n",
    "    else:\n",
    "        while \n",
    "    \n",
    "fib(x)"
   ]
  },
  {
   "cell_type": "code",
   "execution_count": null,
   "id": "37c707eb",
   "metadata": {},
   "outputs": [],
   "source": []
  },
  {
   "cell_type": "code",
   "execution_count": null,
   "id": "e268226a",
   "metadata": {},
   "outputs": [],
   "source": []
  }
 ],
 "metadata": {
  "kernelspec": {
   "display_name": "Python 3 (ipykernel)",
   "language": "python",
   "name": "python3"
  },
  "language_info": {
   "codemirror_mode": {
    "name": "ipython",
    "version": 3
   },
   "file_extension": ".py",
   "mimetype": "text/x-python",
   "name": "python",
   "nbconvert_exporter": "python",
   "pygments_lexer": "ipython3",
   "version": "3.9.6"
  }
 },
 "nbformat": 4,
 "nbformat_minor": 5
}
