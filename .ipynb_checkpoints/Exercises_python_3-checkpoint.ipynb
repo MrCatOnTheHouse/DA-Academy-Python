{
 "cells": [
  {
   "cell_type": "markdown",
   "id": "2d791992",
   "metadata": {},
   "source": [
    "<h1><center> Exercises 3</center>\n",
    "<h1><center>Edson Cortes Madriz</center>"
   ]
  },
  {
   "cell_type": "markdown",
   "id": "7199783e",
   "metadata": {},
   "source": [
    "### Exercise\n",
    "Write a function called \"letters_sequence\". This functions must returns \"True\" if the letters in a word appear in alphabetical order\n",
    "#### Topics: String methods"
   ]
  },
  {
   "cell_type": "code",
   "execution_count": 37,
   "id": "e01f0dd7",
   "metadata": {},
   "outputs": [
    {
     "data": {
      "text/plain": [
       "False"
      ]
     },
     "execution_count": 37,
     "metadata": {},
     "output_type": "execute_result"
    }
   ],
   "source": [
    "# Your answer here:\n",
    "test1 = '1a2b3c'\n",
    "\n",
    "def letters_sequence(x):\n",
    "    y = sorted(x)\n",
    "    x = list(x)\n",
    "    if x == y:\n",
    "        return True\n",
    "    else:\n",
    "        return False\n",
    "    \n",
    "letters_sequence(test1)"
   ]
  },
  {
   "cell_type": "markdown",
   "id": "983da453",
   "metadata": {},
   "source": [
    "### Exercise\n",
    "\n",
    "Write a function called \"middle_list\" that takes a list and returns a new list that contains all but the first and last elements.\n",
    "#### Topics: List methods"
   ]
  },
  {
   "cell_type": "code",
   "execution_count": 1,
   "id": "5e08c9b2",
   "metadata": {},
   "outputs": [
    {
     "data": {
      "text/plain": [
       "[3, 5, 6, 7, 65]"
      ]
     },
     "execution_count": 1,
     "metadata": {},
     "output_type": "execute_result"
    }
   ],
   "source": [
    "# Your answer here:\n",
    "def middle_list(first_list):\n",
    "    new_list = first_list[1:-1]\n",
    "    return(new_list)\n",
    "\n",
    "middle_list([1,3,5,6,7,65,6])"
   ]
  },
  {
   "cell_type": "markdown",
   "id": "349ec8fd",
   "metadata": {},
   "source": [
    "### Exercise\n",
    "Write a function called \"list_is_sorted\" that takes a list as a parameter and returns \"True\" if the list is sorted in ascending order and False otherwise. For example, list_is_sorted([1,2,2]) should return \"True\" and list_is_sorted(['b','a']) should return False.\n",
    "####  Topics: List methods, Conditional Executions"
   ]
  },
  {
   "cell_type": "code",
   "execution_count": 23,
   "id": "21a7e2bf",
   "metadata": {},
   "outputs": [
    {
     "name": "stdout",
     "output_type": "stream",
     "text": [
      "[1, 2, 3, 4, 5]\n",
      "['a', 'b', 'c', 'k', 'e']\n"
     ]
    },
    {
     "data": {
      "text/plain": [
       "False"
      ]
     },
     "execution_count": 23,
     "metadata": {},
     "output_type": "execute_result"
    }
   ],
   "source": [
    "# Your answer here:\n",
    "test = [1 , 2, 3, 4, 5]\n",
    "test2 = ['a' , 'b', 'c', 'k', 'e']\n",
    "\n",
    "def list_is_sorted(x):\n",
    "    y = sorted(x)\n",
    "    if(x == y):\n",
    "        return True\n",
    "    else:\n",
    "        return False\n",
    "\n",
    "print(test)\n",
    "print(test2)\n",
    "list_is_sorted(test2)\n",
    "\n"
   ]
  },
  {
   "cell_type": "markdown",
   "id": "41168427",
   "metadata": {},
   "source": [
    "### Exercise\n",
    "Write a function called \"remove_list_duplicates\" that takes a list and returns a new list with only the unique elements from the original.\n",
    "\n",
    "####  Topics: List methods, Conditional Executions"
   ]
  },
  {
   "cell_type": "code",
   "execution_count": 28,
   "id": "b75f16bc",
   "metadata": {},
   "outputs": [
    {
     "data": {
      "text/plain": [
       "['b', 'd', 'a', 'c']"
      ]
     },
     "execution_count": 28,
     "metadata": {},
     "output_type": "execute_result"
    }
   ],
   "source": [
    "# Your answer here:\n",
    "test1 = [1 , 1 ,1 ,1 ,2, 3,4,5]\n",
    "test2 = ['a','b','c','c','d','d']\n",
    "         \n",
    "def remove_list_duplicates(x):\n",
    "    x = set(x)\n",
    "    x = list(x)\n",
    "    return x\n",
    "\n",
    "remove_list_duplicates(test2)\n",
    "\n"
   ]
  },
  {
   "cell_type": "code",
   "execution_count": null,
   "id": "db9921ce",
   "metadata": {},
   "outputs": [],
   "source": []
  },
  {
   "cell_type": "code",
   "execution_count": null,
   "id": "3a277628",
   "metadata": {},
   "outputs": [],
   "source": []
  }
 ],
 "metadata": {
  "kernelspec": {
   "display_name": "Python 3 (ipykernel)",
   "language": "python",
   "name": "python3"
  },
  "language_info": {
   "codemirror_mode": {
    "name": "ipython",
    "version": 3
   },
   "file_extension": ".py",
   "mimetype": "text/x-python",
   "name": "python",
   "nbconvert_exporter": "python",
   "pygments_lexer": "ipython3",
   "version": "3.9.6"
  }
 },
 "nbformat": 4,
 "nbformat_minor": 5
}
