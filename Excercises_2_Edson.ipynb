{
 "cells": [
  {
   "cell_type": "markdown",
   "id": "48c763bb",
   "metadata": {},
   "source": [
    "### Excercise 1"
   ]
  },
  {
   "cell_type": "code",
   "execution_count": 41,
   "id": "b1a29ddf",
   "metadata": {},
   "outputs": [
    {
     "data": {
      "text/plain": [
       "11"
      ]
     },
     "execution_count": 41,
     "metadata": {},
     "output_type": "execute_result"
    }
   ],
   "source": [
    "x = [1 , 4, 6, 3, 5, 2, 11]\n",
    "\n",
    "def largest_number (x):\n",
    "    return max(x)\n",
    "\n",
    "\n",
    "\n",
    "largest_number(x)\n",
    "    "
   ]
  },
  {
   "cell_type": "markdown",
   "id": "45567846",
   "metadata": {},
   "source": [
    "### Excercise 2"
   ]
  },
  {
   "cell_type": "code",
   "execution_count": 47,
   "id": "f162a9a4",
   "metadata": {},
   "outputs": [
    {
     "data": {
      "text/plain": [
       "False"
      ]
     },
     "execution_count": 47,
     "metadata": {},
     "output_type": "execute_result"
    }
   ],
   "source": [
    "\n",
    "  \n",
    "def prime_number(x):\n",
    "    if x > 1:\n",
    "        for i in range(2, x):\n",
    "            if (x % i) == 0:\n",
    "                return False\n",
    "                break\n",
    "            else:\n",
    "                return True\n",
    "    else:\n",
    "        return False\n",
    "    \n",
    "prime_number(1)"
   ]
  },
  {
   "cell_type": "markdown",
   "id": "f6fff4ce",
   "metadata": {},
   "source": [
    "### Excercise 3"
   ]
  },
  {
   "cell_type": "code",
   "execution_count": 104,
   "id": "eaeab82e",
   "metadata": {},
   "outputs": [
    {
     "data": {
      "text/plain": [
       "6.21371"
      ]
     },
     "execution_count": 104,
     "metadata": {},
     "output_type": "execute_result"
    }
   ],
   "source": [
    "x = 10\n",
    "def convert_km(x):\n",
    "    x = x * 0.621371\n",
    "    return(x)\n",
    "\n",
    "convert_km(x)\n"
   ]
  },
  {
   "cell_type": "markdown",
   "id": "e8af6297",
   "metadata": {},
   "source": [
    "### Excercise 4"
   ]
  },
  {
   "cell_type": "code",
   "execution_count": 22,
   "id": "2b4df5e1",
   "metadata": {},
   "outputs": [
    {
     "data": {
      "text/plain": [
       "10"
      ]
     },
     "execution_count": 22,
     "metadata": {},
     "output_type": "execute_result"
    }
   ],
   "source": [
    "x = 1234\n",
    "\n",
    "def sum_digits(x):\n",
    "    convert = str(x)\n",
    "    memory_number = 0\n",
    "    for i in range(0, len(convert)):\n",
    "        memory_number += int(convert[i])\n",
    "    return memory_number\n",
    "    \n",
    "    \n",
    "sum_digits(x)"
   ]
  },
  {
   "cell_type": "code",
   "execution_count": 4,
   "id": "67aaf624",
   "metadata": {},
   "outputs": [
    {
     "data": {
      "text/plain": [
       "18"
      ]
     },
     "execution_count": 4,
     "metadata": {},
     "output_type": "execute_result"
    }
   ],
   "source": []
  },
  {
   "cell_type": "code",
   "execution_count": 92,
   "id": "669d36ca",
   "metadata": {},
   "outputs": [
    {
     "name": "stdout",
     "output_type": "stream",
     "text": [
      "11\n"
     ]
    },
    {
     "data": {
      "text/plain": [
       "True"
      ]
     },
     "execution_count": 92,
     "metadata": {},
     "output_type": "execute_result"
    }
   ],
   "source": []
  },
  {
   "cell_type": "markdown",
   "id": "37d7bd9d",
   "metadata": {},
   "source": [
    "### Excercise 5"
   ]
  },
  {
   "cell_type": "code",
   "execution_count": 98,
   "id": "bafc306b",
   "metadata": {},
   "outputs": [
    {
     "data": {
      "text/plain": [
       "21"
      ]
     },
     "execution_count": 98,
     "metadata": {},
     "output_type": "execute_result"
    }
   ],
   "source": [
    "x = 8\n",
    "i = 0\n",
    "def fib(x):\n",
    "    if x < 2:\n",
    "        return x\n",
    "    else:\n",
    "        while \n",
    "    \n",
    "fib(x)"
   ]
  },
  {
   "cell_type": "code",
   "execution_count": 8,
   "id": "37c707eb",
   "metadata": {},
   "outputs": [
    {
     "data": {
      "text/plain": [
       "[0, 1, 1, 1, 2, 3, 5, 8, 13, 21, 34, 55, 89]"
      ]
     },
     "execution_count": 8,
     "metadata": {},
     "output_type": "execute_result"
    }
   ],
   "source": [
    "def fibonacci(stop_number):\n",
    "    first_number = 0\n",
    "    second_number = 1\n",
    "    \n",
    "    result = [first_number , second_number]\n",
    "    \n",
    "    while second_number < stop_number:\n",
    "        result.append(second_number)\n",
    "        first_number,second_number = second_number , first_number + second_number\n",
    "    return result\n",
    "    \n",
    "fibonacci(120)"
   ]
  },
  {
   "cell_type": "code",
   "execution_count": null,
   "id": "e268226a",
   "metadata": {},
   "outputs": [],
   "source": []
  }
 ],
 "metadata": {
  "kernelspec": {
   "display_name": "Python 3 (ipykernel)",
   "language": "python",
   "name": "python3"
  },
  "language_info": {
   "codemirror_mode": {
    "name": "ipython",
    "version": 3
   },
   "file_extension": ".py",
   "mimetype": "text/x-python",
   "name": "python",
   "nbconvert_exporter": "python",
   "pygments_lexer": "ipython3",
   "version": "3.9.6"
  }
 },
 "nbformat": 4,
 "nbformat_minor": 5
}
